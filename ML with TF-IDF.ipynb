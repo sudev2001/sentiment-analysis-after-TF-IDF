{
 "cells": [
  {
   "cell_type": "code",
   "execution_count": 1,
   "id": "edc34705",
   "metadata": {},
   "outputs": [],
   "source": [
    "import pandas as pd\n",
    "import sklearn\n",
    "import numpy as np\n",
    "import matplotlib.pyplot as plt"
   ]
  },
  {
   "cell_type": "code",
   "execution_count": 2,
   "id": "3950684a",
   "metadata": {},
   "outputs": [
    {
     "data": {
      "text/html": [
       "<div>\n",
       "<style scoped>\n",
       "    .dataframe tbody tr th:only-of-type {\n",
       "        vertical-align: middle;\n",
       "    }\n",
       "\n",
       "    .dataframe tbody tr th {\n",
       "        vertical-align: top;\n",
       "    }\n",
       "\n",
       "    .dataframe thead th {\n",
       "        text-align: right;\n",
       "    }\n",
       "</style>\n",
       "<table border=\"1\" class=\"dataframe\">\n",
       "  <thead>\n",
       "    <tr style=\"text-align: right;\">\n",
       "      <th></th>\n",
       "      <th>index</th>\n",
       "      <th>rating</th>\n",
       "      <th>reviews</th>\n",
       "      <th>doctor_id</th>\n",
       "      <th>sentiment</th>\n",
       "    </tr>\n",
       "  </thead>\n",
       "  <tbody>\n",
       "    <tr>\n",
       "      <th>0</th>\n",
       "      <td>0</td>\n",
       "      <td>1</td>\n",
       "      <td>In my mother, an insufficient diagnosis was ma...</td>\n",
       "      <td>138</td>\n",
       "      <td>-1</td>\n",
       "    </tr>\n",
       "    <tr>\n",
       "      <th>1</th>\n",
       "      <td>1</td>\n",
       "      <td>6</td>\n",
       "      <td>Was very too peace from the start with Dr.Bröc...</td>\n",
       "      <td>117</td>\n",
       "      <td>1</td>\n",
       "    </tr>\n",
       "    <tr>\n",
       "      <th>2</th>\n",
       "      <td>2</td>\n",
       "      <td>6</td>\n",
       "      <td>I have been regularly in treatment since 2010....</td>\n",
       "      <td>125</td>\n",
       "      <td>1</td>\n",
       "    </tr>\n",
       "    <tr>\n",
       "      <th>3</th>\n",
       "      <td>3</td>\n",
       "      <td>1</td>\n",
       "      <td>For a long time I have had pain that radiates ...</td>\n",
       "      <td>96</td>\n",
       "      <td>-1</td>\n",
       "    </tr>\n",
       "    <tr>\n",
       "      <th>4</th>\n",
       "      <td>4</td>\n",
       "      <td>6</td>\n",
       "      <td>I came to this clinic through this page.I can ...</td>\n",
       "      <td>100</td>\n",
       "      <td>1</td>\n",
       "    </tr>\n",
       "    <tr>\n",
       "      <th>...</th>\n",
       "      <td>...</td>\n",
       "      <td>...</td>\n",
       "      <td>...</td>\n",
       "      <td>...</td>\n",
       "      <td>...</td>\n",
       "    </tr>\n",
       "    <tr>\n",
       "      <th>92488</th>\n",
       "      <td>92488</td>\n",
       "      <td>2</td>\n",
       "      <td>The anamnesis interview felt more like an inte...</td>\n",
       "      <td>149</td>\n",
       "      <td>-1</td>\n",
       "    </tr>\n",
       "    <tr>\n",
       "      <th>92489</th>\n",
       "      <td>92489</td>\n",
       "      <td>1</td>\n",
       "      <td>For the first and last time I was in treatment...</td>\n",
       "      <td>146</td>\n",
       "      <td>-1</td>\n",
       "    </tr>\n",
       "    <tr>\n",
       "      <th>92490</th>\n",
       "      <td>92490</td>\n",
       "      <td>6</td>\n",
       "      <td>Very personable and understanding, you can dis...</td>\n",
       "      <td>147</td>\n",
       "      <td>1</td>\n",
       "    </tr>\n",
       "    <tr>\n",
       "      <th>92491</th>\n",
       "      <td>92491</td>\n",
       "      <td>5</td>\n",
       "      <td>Dr.Karajoli was the first pediatrician to take...</td>\n",
       "      <td>41</td>\n",
       "      <td>1</td>\n",
       "    </tr>\n",
       "    <tr>\n",
       "      <th>92492</th>\n",
       "      <td>92492</td>\n",
       "      <td>6</td>\n",
       "      <td>Even if we have not found the solution to my p...</td>\n",
       "      <td>35</td>\n",
       "      <td>1</td>\n",
       "    </tr>\n",
       "  </tbody>\n",
       "</table>\n",
       "<p>92493 rows × 5 columns</p>\n",
       "</div>"
      ],
      "text/plain": [
       "       index  rating                                            reviews   \n",
       "0          0       1  In my mother, an insufficient diagnosis was ma...  \\\n",
       "1          1       6  Was very too peace from the start with Dr.Bröc...   \n",
       "2          2       6  I have been regularly in treatment since 2010....   \n",
       "3          3       1  For a long time I have had pain that radiates ...   \n",
       "4          4       6  I came to this clinic through this page.I can ...   \n",
       "...      ...     ...                                                ...   \n",
       "92488  92488       2  The anamnesis interview felt more like an inte...   \n",
       "92489  92489       1  For the first and last time I was in treatment...   \n",
       "92490  92490       6  Very personable and understanding, you can dis...   \n",
       "92491  92491       5  Dr.Karajoli was the first pediatrician to take...   \n",
       "92492  92492       6  Even if we have not found the solution to my p...   \n",
       "\n",
       "       doctor_id  sentiment  \n",
       "0            138         -1  \n",
       "1            117          1  \n",
       "2            125          1  \n",
       "3             96         -1  \n",
       "4            100          1  \n",
       "...          ...        ...  \n",
       "92488        149         -1  \n",
       "92489        146         -1  \n",
       "92490        147          1  \n",
       "92491         41          1  \n",
       "92492         35          1  \n",
       "\n",
       "[92493 rows x 5 columns]"
      ]
     },
     "execution_count": 2,
     "metadata": {},
     "output_type": "execute_result"
    }
   ],
   "source": [
    "df = pd.read_csv('Datasets/patient_reviews.csv')\n",
    "df"
   ]
  },
  {
   "cell_type": "code",
   "execution_count": 3,
   "id": "71e9be1d",
   "metadata": {},
   "outputs": [
    {
     "data": {
      "text/plain": [
       "index        0\n",
       "rating       0\n",
       "reviews      0\n",
       "doctor_id    0\n",
       "sentiment    0\n",
       "dtype: int64"
      ]
     },
     "execution_count": 3,
     "metadata": {},
     "output_type": "execute_result"
    }
   ],
   "source": [
    "df.isna().sum()"
   ]
  },
  {
   "cell_type": "code",
   "execution_count": 4,
   "id": "e6144c0e",
   "metadata": {},
   "outputs": [],
   "source": [
    "X = df.reviews\n",
    "y = df.sentiment"
   ]
  },
  {
   "cell_type": "code",
   "execution_count": null,
   "id": "ee52ffcc",
   "metadata": {},
   "outputs": [],
   "source": []
  },
  {
   "cell_type": "code",
   "execution_count": 5,
   "id": "4f3e7717",
   "metadata": {},
   "outputs": [],
   "source": [
    "# df['reviews'] = df['reviews'].str.replace('<.*?>', '')"
   ]
  },
  {
   "cell_type": "code",
   "execution_count": null,
   "id": "8163bd55",
   "metadata": {},
   "outputs": [],
   "source": []
  },
  {
   "cell_type": "code",
   "execution_count": 6,
   "id": "c8261016",
   "metadata": {},
   "outputs": [],
   "source": [
    "import nltk\n",
    "import re\n",
    "from nltk.corpus import stopwords\n",
    "from nltk.stem import WordNetLemmatizer"
   ]
  },
  {
   "cell_type": "code",
   "execution_count": 7,
   "id": "044e4719",
   "metadata": {},
   "outputs": [],
   "source": [
    "lemma = WordNetLemmatizer()\n",
    "corpus = []\n",
    "for i in range(0, len(df)):\n",
    "    review = re.sub(r'<[^>]+>', '', df['reviews'][i])\n",
    "    review = re.sub('[^a-zA-Z0-9]', ' ',df['reviews'][i]) ## remove non alphanumeric characters\n",
    "    review = review.lower()\n",
    "    review = review.split()\n",
    "    \n",
    "    review = [lemma.lemmatize(word) for word in review if not word in stopwords.words('english')]\n",
    "    review = ' '.join(review)\n",
    "    corpus.append(review)"
   ]
  },
  {
   "cell_type": "code",
   "execution_count": 8,
   "id": "0c2a5183",
   "metadata": {},
   "outputs": [
    {
     "data": {
      "text/plain": [
       "('In my mother, an insufficient diagnosis was made, insufficiently treated, held up for weeks.When the correct diagnosis (and that was not the merit of Mr. Glaser) was finally clear and the complicated operation was carried out, it was already weakened.',\n",
       " 'mother insufficient diagnosis made insufficiently treated held week correct diagnosis merit mr glaser finally clear complicated operation carried already weakened')"
      ]
     },
     "execution_count": 8,
     "metadata": {},
     "output_type": "execute_result"
    }
   ],
   "source": [
    "df.reviews[0],corpus[0]"
   ]
  },
  {
   "cell_type": "code",
   "execution_count": 9,
   "id": "7416a3b1",
   "metadata": {},
   "outputs": [],
   "source": [
    "np.save('corpus.npy',corpus)"
   ]
  },
  {
   "cell_type": "code",
   "execution_count": 10,
   "id": "f77d3555",
   "metadata": {},
   "outputs": [],
   "source": [
    "from sklearn.feature_extraction.text import TfidfVectorizer\n",
    "tfidf_vectorizer = TfidfVectorizer(max_features=4000, stop_words='english')"
   ]
  },
  {
   "cell_type": "code",
   "execution_count": 11,
   "id": "25c3b352",
   "metadata": {},
   "outputs": [],
   "source": [
    "tfidf_matrix = tfidf_vectorizer.fit_transform(corpus)"
   ]
  },
  {
   "cell_type": "code",
   "execution_count": 12,
   "id": "a9cdf0e5",
   "metadata": {},
   "outputs": [],
   "source": [
    "feature_names = tfidf_vectorizer.get_feature_names_out()\n",
    "tfidf_values = tfidf_matrix.toarray()"
   ]
  },
  {
   "cell_type": "code",
   "execution_count": 13,
   "id": "33ea5fd6",
   "metadata": {},
   "outputs": [
    {
     "data": {
      "text/plain": [
       "(array([[0., 0., 0., ..., 0., 0., 0.],\n",
       "        [0., 0., 0., ..., 0., 0., 0.],\n",
       "        [0., 0., 0., ..., 0., 0., 0.],\n",
       "        ...,\n",
       "        [0., 0., 0., ..., 0., 0., 0.],\n",
       "        [0., 0., 0., ..., 0., 0., 0.],\n",
       "        [0., 0., 0., ..., 0., 0., 0.]]),\n",
       " array(['00', '000', '02', ..., 'zack', 'zero', 'zimmermann'], dtype=object))"
      ]
     },
     "execution_count": 13,
     "metadata": {},
     "output_type": "execute_result"
    }
   ],
   "source": [
    "tfidf_values,feature_names"
   ]
  },
  {
   "cell_type": "code",
   "execution_count": null,
   "id": "b1196a41",
   "metadata": {},
   "outputs": [],
   "source": []
  },
  {
   "cell_type": "markdown",
   "id": "56e5ea56",
   "metadata": {},
   "source": [
    "## importing needed libraries"
   ]
  },
  {
   "cell_type": "code",
   "execution_count": 14,
   "id": "ed93b4f6",
   "metadata": {},
   "outputs": [],
   "source": [
    "from sklearn.model_selection import train_test_split\n",
    "from sklearn.metrics import accuracy_score,confusion_matrix\n",
    "import seaborn as sns"
   ]
  },
  {
   "cell_type": "code",
   "execution_count": null,
   "id": "dacba339",
   "metadata": {},
   "outputs": [],
   "source": []
  },
  {
   "cell_type": "code",
   "execution_count": 27,
   "id": "bb5aa127",
   "metadata": {},
   "outputs": [
    {
     "data": {
      "text/plain": [
       "52950    1\n",
       "12681    1\n",
       "52817    1\n",
       "43956    1\n",
       "5421     1\n",
       "        ..\n",
       "6265     1\n",
       "54886    1\n",
       "76820    1\n",
       "860      1\n",
       "15795    1\n",
       "Name: sentiment, Length: 64745, dtype: int64"
      ]
     },
     "execution_count": 27,
     "metadata": {},
     "output_type": "execute_result"
    }
   ],
   "source": [
    "#train test split for training and analysing\n",
    "\n",
    "X_train, X_test, y_train, y_test = train_test_split(tfidf_values,y,test_size=.3, random_state=42)\n",
    "len(X_train),len(X_test)\n",
    "y_train"
   ]
  },
  {
   "cell_type": "markdown",
   "id": "0f6c027d",
   "metadata": {},
   "source": [
    "## Naive Bayes"
   ]
  },
  {
   "cell_type": "code",
   "execution_count": 16,
   "id": "631785a8",
   "metadata": {},
   "outputs": [],
   "source": [
    "from sklearn.naive_bayes import MultinomialNB\n",
    "naive = MultinomialNB()"
   ]
  },
  {
   "cell_type": "code",
   "execution_count": 17,
   "id": "3efdfaba",
   "metadata": {},
   "outputs": [
    {
     "data": {
      "text/plain": [
       "array([1, 1, 1, ..., 1, 1, 1], dtype=int64)"
      ]
     },
     "execution_count": 17,
     "metadata": {},
     "output_type": "execute_result"
    }
   ],
   "source": [
    "naive.fit(X_train, y_train)\n",
    "naive_pred = naive.predict(X_test)\n",
    "naive_pred"
   ]
  },
  {
   "cell_type": "code",
   "execution_count": null,
   "id": "7cf49910",
   "metadata": {},
   "outputs": [],
   "source": []
  },
  {
   "cell_type": "markdown",
   "id": "06fd4870",
   "metadata": {},
   "source": [
    "### Accuracy of Naive Bayes"
   ]
  },
  {
   "cell_type": "code",
   "execution_count": 18,
   "id": "2eded425",
   "metadata": {},
   "outputs": [
    {
     "data": {
      "text/plain": [
       "0.8805319302292057"
      ]
     },
     "execution_count": 18,
     "metadata": {},
     "output_type": "execute_result"
    }
   ],
   "source": [
    "naive_score = accuracy_score(naive_pred,y_test)\n",
    "naive_score"
   ]
  },
  {
   "cell_type": "markdown",
   "id": "c6ab76e2",
   "metadata": {},
   "source": [
    "### Confusion Matrix of Naive Bayes"
   ]
  },
  {
   "cell_type": "code",
   "execution_count": 19,
   "id": "5a4d3b45",
   "metadata": {},
   "outputs": [
    {
     "data": {
      "text/plain": [
       "Text(0.5, 1.0, 'Confusion Matrix')"
      ]
     },
     "execution_count": 19,
     "metadata": {},
     "output_type": "execute_result"
    },
    {
     "data": {
      "image/png": "[encoded data removed]",
      "text/plain": [
       "<Figure size 640x480 with 2 Axes>"
      ]
     },
     "metadata": {},
     "output_type": "display_data"
    }
   ],
   "source": [
    "naive_metrics = confusion_matrix(naive_pred, y_test,labels=None, sample_weight=None, normalize=None)\n",
    "sns.heatmap(naive_metrics, annot=True,cmap='Blues')\n",
    "plt.xlabel('Predicted')\n",
    "plt.ylabel('Actual')\n",
    "plt.title('Confusion Matrix')"
   ]
  },
  {
   "cell_type": "code",
   "execution_count": null,
   "id": "d39abf6e",
   "metadata": {},
   "outputs": [],
   "source": []
  },
  {
   "cell_type": "markdown",
   "id": "4a155830",
   "metadata": {},
   "source": [
    "## Random Forest"
   ]
  },
  {
   "cell_type": "code",
   "execution_count": 20,
   "id": "e90054a2",
   "metadata": {},
   "outputs": [],
   "source": [
    "from sklearn.ensemble import RandomForestClassifier"
   ]
  },
  {
   "cell_type": "code",
   "execution_count": null,
   "id": "1dceb06a",
   "metadata": {},
   "outputs": [],
   "source": []
  },
  {
   "cell_type": "code",
   "execution_count": 21,
   "id": "5daeb897",
   "metadata": {},
   "outputs": [
    {
     "data": {
      "text/plain": [
       "array([1, 1, 1, ..., 1, 1, 1], dtype=int64)"
      ]
     },
     "execution_count": 21,
     "metadata": {},
     "output_type": "execute_result"
    }
   ],
   "source": [
    "random = RandomForestClassifier(criterion = 'gini', max_depth= 100, min_samples_leaf= 10, min_samples_split= 40)\n",
    "random.fit(X_train, y_train)\n",
    "random_pred = random.predict(X_test)\n",
    "random_pred"
   ]
  },
  {
   "cell_type": "code",
   "execution_count": null,
   "id": "6e0ad61a",
   "metadata": {},
   "outputs": [],
   "source": []
  },
  {
   "cell_type": "markdown",
   "id": "543ed7b8",
   "metadata": {},
   "source": [
    "### Accuracy of Random Forest"
   ]
  },
  {
   "cell_type": "code",
   "execution_count": 22,
   "id": "9d5de25e",
   "metadata": {},
   "outputs": [
    {
     "data": {
      "text/plain": [
       "0.8578636298111576"
      ]
     },
     "execution_count": 22,
     "metadata": {},
     "output_type": "execute_result"
    }
   ],
   "source": [
    "random_score = accuracy_score(random_pred,y_test)\n",
    "random_score"
   ]
  },
  {
   "cell_type": "markdown",
   "id": "96782c17",
   "metadata": {},
   "source": [
    "### Confusion Matrix of Random Forest"
   ]
  },
  {
   "cell_type": "code",
   "execution_count": 23,
   "id": "c297c5d1",
   "metadata": {
    "scrolled": true
   },
   "outputs": [
    {
     "data": {
      "text/plain": [
       "Text(0.5, 1.0, 'Confusion Matrix')"
      ]
     },
     "execution_count": 23,
     "metadata": {},
     "output_type": "execute_result"
    },
    {
     "data": {
      "image/png": "[encoded data removed]",
      "text/plain": [
       "<Figure size 640x480 with 2 Axes>"
      ]
     },
     "metadata": {},
     "output_type": "display_data"
    }
   ],
   "source": [
    "random_metrics = confusion_matrix(random_pred, y_test,labels=None, sample_weight=None, normalize=None)\n",
    "sns.heatmap(random_metrics, annot=True,cmap='Blues')\n",
    "plt.xlabel('Predicted')\n",
    "plt.ylabel('Actual')\n",
    "plt.title('Confusion Matrix')"
   ]
  },
  {
   "cell_type": "code",
   "execution_count": null,
   "id": "8269711f",
   "metadata": {},
   "outputs": [],
   "source": []
  },
  {
   "cell_type": "code",
   "execution_count": null,
   "id": "e605fc1f",
   "metadata": {},
   "outputs": [],
   "source": []
  },
  {
   "cell_type": "markdown",
   "id": "cf3ed928",
   "metadata": {},
   "source": [
    "## Logistic Regression"
   ]
  },
  {
   "cell_type": "code",
   "execution_count": 24,
   "id": "354bb67c",
   "metadata": {},
   "outputs": [
    {
     "name": "stderr",
     "output_type": "stream",
     "text": [
      "D:\\program\\Entry_To_DS\\test\\Lib\\site-packages\\sklearn\\linear_model\\_logistic.py:458: ConvergenceWarning: lbfgs failed to converge (status=1):\n",
      "STOP: TOTAL NO. of ITERATIONS REACHED LIMIT.\n",
      "\n",
      "Increase the number of iterations (max_iter) or scale the data as shown in:\n",
      "    https://scikit-learn.org/stable/modules/preprocessing.html\n",
      "Please also refer to the documentation for alternative solver options:\n",
      "    https://scikit-learn.org/stable/modules/linear_model.html#logistic-regression\n",
      "  n_iter_i = _check_optimize_result(\n"
     ]
    },
    {
     "data": {
      "text/plain": [
       "array([1, 1, 1, ..., 0, 1, 1], dtype=int64)"
      ]
     },
     "execution_count": 24,
     "metadata": {},
     "output_type": "execute_result"
    }
   ],
   "source": [
    "from sklearn.linear_model import LogisticRegression\n",
    "logistic = LogisticRegression()\n",
    "logistic.fit(X_train,y_train)\n",
    "logistic_pred = logistic.predict(X_test)\n",
    "logistic_pred"
   ]
  },
  {
   "cell_type": "code",
   "execution_count": null,
   "id": "19a9a5db",
   "metadata": {},
   "outputs": [],
   "source": []
  },
  {
   "cell_type": "code",
   "execution_count": 25,
   "id": "7414c6e5",
   "metadata": {},
   "outputs": [
    {
     "data": {
      "text/plain": [
       "0.9019388784777281"
      ]
     },
     "execution_count": 25,
     "metadata": {},
     "output_type": "execute_result"
    }
   ],
   "source": [
    "logistic_score = accuracy_score(logistic_pred,y_test)\n",
    "logistic_score"
   ]
  },
  {
   "cell_type": "code",
   "execution_count": null,
   "id": "77262486",
   "metadata": {},
   "outputs": [],
   "source": []
  },
  {
   "cell_type": "code",
   "execution_count": 26,
   "id": "3cdeb7d4",
   "metadata": {},
   "outputs": [
    {
     "data": {
      "text/plain": [
       "Text(0.5, 1.0, 'Confusion Matrix')"
      ]
     },
     "execution_count": 26,
     "metadata": {},
     "output_type": "execute_result"
    },
    {
     "data": {
      "image/png": "[encoded data removed]",
      "text/plain": [
       "<Figure size 640x480 with 2 Axes>"
      ]
     },
     "metadata": {},
     "output_type": "display_data"
    }
   ],
   "source": [
    "logistic_metrics = confusion_matrix(logistic_pred, y_test,labels=None, sample_weight=None, normalize=None)\n",
    "sns.heatmap(logistic_metrics, annot=True,cmap='Blues')\n",
    "plt.xlabel('Predicted')\n",
    "plt.ylabel('Actual')\n",
    "plt.title('Confusion Matrix')"
   ]
  },
  {
   "cell_type": "code",
   "execution_count": null,
   "id": "a36c6024",
   "metadata": {},
   "outputs": [],
   "source": []
  }
 ],
 "metadata": {
  "kernelspec": {
   "display_name": "test",
   "language": "python",
   "name": "test"
  },
  "language_info": {
   "codemirror_mode": {
    "name": "ipython",
    "version": 3
   },
   "file_extension": ".py",
   "mimetype": "text/x-python",
   "name": "python",
   "nbconvert_exporter": "python",
   "pygments_lexer": "ipython3",
   "version": "3.11.2"
  }
 },
 "nbformat": 4,
 "nbformat_minor": 5
}
